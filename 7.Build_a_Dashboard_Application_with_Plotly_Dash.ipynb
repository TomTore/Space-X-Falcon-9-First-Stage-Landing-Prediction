{
 "cells": [
  {
   "cell_type": "markdown",
   "id": "ab3a0c00-9d93-4450-9b28-ec57f226df99",
   "metadata": {},
   "source": [
    "<p style=\"text-align:center\">\n",
    "    <a href=\"https://skills.network\" target=\"_blank\">\n",
    "    <img src=\"https://cf-courses-data.s3.us.cloud-object-storage.appdomain.cloud/assets/logos/SN_web_lightmode.png\" width=\"200\" alt=\"Skills Network Logo\">\n",
    "    </a>\n",
    "</p>\n"
   ]
  },
  {
   "cell_type": "markdown",
   "metadata": {},
   "source": [
    "## Install dash"
   ]
  },
  {
   "cell_type": "code",
   "execution_count": 1,
   "id": "1da630b5-fd74-4b04-a2af-85487a4b2a54",
   "metadata": {},
   "outputs": [
    {
     "name": "stdout",
     "output_type": "stream",
     "text": [
      "Collecting dash\n",
      "  Downloading dash-3.0.4-py3-none-any.whl.metadata (10 kB)\n",
      "Collecting Flask<3.1,>=1.0.4 (from dash)\n",
      "  Using cached flask-3.0.3-py3-none-any.whl.metadata (3.2 kB)\n",
      "Requirement already satisfied: Werkzeug<3.1 in /Users/tommaso/miniforge3/envs/scvi-env/lib/python3.12/site-packages (from dash) (3.0.6)\n",
      "Requirement already satisfied: plotly>=5.0.0 in /Users/tommaso/miniforge3/envs/scvi-env/lib/python3.12/site-packages (from dash) (6.0.1)\n",
      "Requirement already satisfied: importlib-metadata in /Users/tommaso/miniforge3/envs/scvi-env/lib/python3.12/site-packages (from dash) (8.5.0)\n",
      "Requirement already satisfied: typing-extensions>=4.1.1 in /Users/tommaso/miniforge3/envs/scvi-env/lib/python3.12/site-packages (from dash) (4.12.2)\n",
      "Requirement already satisfied: requests in /Users/tommaso/miniforge3/envs/scvi-env/lib/python3.12/site-packages (from dash) (2.32.3)\n",
      "Collecting retrying (from dash)\n",
      "  Downloading retrying-1.3.5-py3-none-any.whl.metadata (7.1 kB)\n",
      "Requirement already satisfied: nest-asyncio in /Users/tommaso/miniforge3/envs/scvi-env/lib/python3.12/site-packages (from dash) (1.6.0)\n",
      "Requirement already satisfied: setuptools in /Users/tommaso/miniforge3/envs/scvi-env/lib/python3.12/site-packages (from dash) (75.1.0)\n",
      "Requirement already satisfied: Jinja2>=3.1.2 in /Users/tommaso/miniforge3/envs/scvi-env/lib/python3.12/site-packages (from Flask<3.1,>=1.0.4->dash) (3.1.4)\n",
      "Collecting itsdangerous>=2.1.2 (from Flask<3.1,>=1.0.4->dash)\n",
      "  Using cached itsdangerous-2.2.0-py3-none-any.whl.metadata (1.9 kB)\n",
      "Requirement already satisfied: click>=8.1.3 in /Users/tommaso/miniforge3/envs/scvi-env/lib/python3.12/site-packages (from Flask<3.1,>=1.0.4->dash) (8.1.7)\n",
      "Requirement already satisfied: blinker>=1.6.2 in /Users/tommaso/miniforge3/envs/scvi-env/lib/python3.12/site-packages (from Flask<3.1,>=1.0.4->dash) (1.9.0)\n",
      "Requirement already satisfied: narwhals>=1.15.1 in /Users/tommaso/miniforge3/envs/scvi-env/lib/python3.12/site-packages (from plotly>=5.0.0->dash) (1.32.0)\n",
      "Requirement already satisfied: packaging in /Users/tommaso/miniforge3/envs/scvi-env/lib/python3.12/site-packages (from plotly>=5.0.0->dash) (24.1)\n",
      "Requirement already satisfied: MarkupSafe>=2.1.1 in /Users/tommaso/miniforge3/envs/scvi-env/lib/python3.12/site-packages (from Werkzeug<3.1->dash) (2.1.5)\n",
      "Requirement already satisfied: zipp>=3.20 in /Users/tommaso/miniforge3/envs/scvi-env/lib/python3.12/site-packages (from importlib-metadata->dash) (3.20.2)\n",
      "Requirement already satisfied: charset-normalizer<4,>=2 in /Users/tommaso/miniforge3/envs/scvi-env/lib/python3.12/site-packages (from requests->dash) (3.3.2)\n",
      "Requirement already satisfied: idna<4,>=2.5 in /Users/tommaso/miniforge3/envs/scvi-env/lib/python3.12/site-packages (from requests->dash) (3.10)\n",
      "Requirement already satisfied: urllib3<3,>=1.21.1 in /Users/tommaso/miniforge3/envs/scvi-env/lib/python3.12/site-packages (from requests->dash) (2.2.3)\n",
      "Requirement already satisfied: certifi>=2017.4.17 in /Users/tommaso/miniforge3/envs/scvi-env/lib/python3.12/site-packages (from requests->dash) (2025.4.26)\n",
      "Downloading dash-3.0.4-py3-none-any.whl (7.9 MB)\n",
      "\u001b[2K   \u001b[90m━━━━━━━━━━━━━━━━━━━━━━━━━━━━━━━━━━━━━━━━\u001b[0m \u001b[32m7.9/7.9 MB\u001b[0m \u001b[31m17.8 MB/s\u001b[0m eta \u001b[36m0:00:00\u001b[0ma \u001b[36m0:00:01\u001b[0m\n",
      "\u001b[?25hUsing cached flask-3.0.3-py3-none-any.whl (101 kB)\n",
      "Downloading retrying-1.3.5-py3-none-any.whl (11 kB)\n",
      "Using cached itsdangerous-2.2.0-py3-none-any.whl (16 kB)\n",
      "Installing collected packages: retrying, itsdangerous, Flask, dash\n",
      "Successfully installed Flask-3.0.3 dash-3.0.4 itsdangerous-2.2.0 retrying-1.3.5\n"
     ]
    }
   ],
   "source": [
    "!pip install dash"
   ]
  },
  {
   "cell_type": "markdown",
   "metadata": {},
   "source": [
    "## Download csv and py script"
   ]
  },
  {
   "cell_type": "code",
   "execution_count": null,
   "metadata": {},
   "outputs": [
    {
     "name": "stdout",
     "output_type": "stream",
     "text": [
      "--2025-06-24 09:49:05--  https://cf-courses-data.s3.us.cloud-object-storage.appdomain.cloud/IBM-DS0321EN-SkillsNetwork/datasets/spacex_launch_dash.csv\n",
      "Risoluzione di cf-courses-data.s3.us.cloud-object-storage.appdomain.cloud (cf-courses-data.s3.us.cloud-object-storage.appdomain.cloud)... 169.63.118.104\n",
      "Connessione a cf-courses-data.s3.us.cloud-object-storage.appdomain.cloud (cf-courses-data.s3.us.cloud-object-storage.appdomain.cloud)|169.63.118.104|:443... connesso.\n",
      "Richiesta HTTP inviata, in attesa di risposta... 200 OK\n",
      "Lunghezza: 2476 (2,4K) [text/csv]\n",
      "Salvataggio in: «spacex_launch_dash.csv»\n",
      "\n",
      "spacex_launch_dash. 100%[===================>]   2,42K  --.-KB/s    in 0s      \n",
      "\n",
      "2025-06-24 09:49:05 (90,8 MB/s) - «spacex_launch_dash.csv» salvato [2476/2476]\n",
      "\n"
     ]
    }
   ],
   "source": [
    "!wget \"https://cf-courses-data.s3.us.cloud-object-storage.appdomain.cloud/IBM-DS0321EN-SkillsNetwork/datasets/spacex_launch_dash.csv\"\n",
    "!wget \"https://cf-courses-data.s3.us.cloud-object-storage.appdomain.cloud/t4-Vy4iOU19i8y6E3Px_ww/spacex-dash-app.py\""
   ]
  },
  {
   "cell_type": "code",
   "execution_count": 5,
   "metadata": {},
   "outputs": [
    {
     "name": "stdout",
     "output_type": "stream",
     "text": [
      "Dash is running on http://127.0.0.1:8050/\n",
      "\n",
      " * Serving Flask app 'spacex-dash-app'\n",
      " * Debug mode: off\n",
      "\u001b[31m\u001b[1mWARNING: This is a development server. Do not use it in a production deployment. Use a production WSGI server instead.\u001b[0m\n",
      " * Running on http://127.0.0.1:8050\n",
      "\u001b[33mPress CTRL+C to quit\u001b[0m\n",
      "^C\n"
     ]
    }
   ],
   "source": [
    "!python spacex-dash-app.py"
   ]
  },
  {
   "cell_type": "markdown",
   "metadata": {},
   "source": [
    "# App.py script"
   ]
  },
  {
   "cell_type": "code",
   "execution_count": 1,
   "metadata": {},
   "outputs": [
    {
     "data": {
      "text/html": [
       "\n",
       "        <iframe\n",
       "            width=\"100%\"\n",
       "            height=\"650\"\n",
       "            src=\"http://127.0.0.1:8050/\"\n",
       "            frameborder=\"0\"\n",
       "            allowfullscreen\n",
       "            \n",
       "        ></iframe>\n",
       "        "
      ],
      "text/plain": [
       "<IPython.lib.display.IFrame at 0x16a42b6e0>"
      ]
     },
     "metadata": {},
     "output_type": "display_data"
    }
   ],
   "source": [
    "\n",
    "# Import required libraries\n",
    "import pandas as pd\n",
    "import dash\n",
    "from dash import html\n",
    "from dash import dcc\n",
    "from dash.dependencies import Input, Output\n",
    "import plotly.express as px\n",
    "import os\n",
    "\n",
    "# Read the airline data into pandas dataframe\n",
    "spacex_df = pd.read_csv(\"spacex_launch_dash.csv\")\n",
    "max_payload = spacex_df['Payload Mass (kg)'].max()\n",
    "min_payload = spacex_df['Payload Mass (kg)'].min()\n",
    "\n",
    "#create site options # Task1\n",
    "options = [{'label': 'All Sites', 'value': 'ALL'}]\n",
    "for Site in spacex_df[\"Launch Site\"].value_counts().index.to_list():\n",
    "    #Task1\n",
    "    options.append({'label': Site, 'value': Site})\n",
    "\n",
    "#sliders marks Task4\n",
    "marks= {}\n",
    "for step in list(range(0, 10001, 2500)):\n",
    "    marks[step] = f'{step}'\n",
    "\n",
    "# Create a dash application\n",
    "app = dash.Dash(__name__)\n",
    "\n",
    "# Create an app layout\n",
    "app.layout = html.Div(children=[html.H1('SpaceX Launch Records Dashboard',\n",
    "                                        style={'textAlign': 'center', 'color': '#503D36',\n",
    "                                               'font-size': 40}),\n",
    "                                # TASK 1: Add a dropdown list to enable Launch Site selection\n",
    "                                # The default select value is for ALL sites\n",
    "                                dcc.Dropdown(id='site-dropdown',\n",
    "                                    options= options,\n",
    "                                    value='ALL',\n",
    "                                    placeholder=\"place holder here\",\n",
    "                                    searchable=True\n",
    "                                    ),\n",
    "\n",
    "                                # TASK 2: Add a pie chart to show the total successful launches count for all sites\n",
    "                                # If a specific launch site was selected, show the Success vs. Failed counts for the site\n",
    "                                html.Div(dcc.Graph(id='success-pie-chart')),\n",
    "                                html.Br(),\n",
    "\n",
    "                                html.P(\"Payload range (Kg):\"),\n",
    "                                # TASK 3: Add a slider to select payload range\n",
    "                                dcc.RangeSlider(id='payload-slider',\n",
    "                                                min=0, max=10000, step=1000,\n",
    "                                                marks= marks,\n",
    "                                                 value=[min_payload, max_payload]),\n",
    "\n",
    "                                # TASK 4: Add a scatter chart to show the correlation between payload and launch success\n",
    "                                html.Div(dcc.Graph(id='success-payload-scatter-chart')),\n",
    "                                ])\n",
    "\n",
    "\n",
    "\n",
    "\n",
    "# TASK 2:\n",
    "# Add a callback function for `site-dropdown` as input, `success-pie-chart` as output\n",
    "# Function decorator to specify function input and output\n",
    "@app.callback(Output(component_id='success-pie-chart', component_property='figure'),\n",
    "              Input(component_id='site-dropdown', component_property='value')) #component id must be the same of the dropdown\n",
    "def get_pie_chart(entered_site):\n",
    "    filtered_df = spacex_df\n",
    "    if entered_site == 'ALL':\n",
    "        fig = px.pie(filtered_df, values='class', #values needs to be an existing column\n",
    "        names='Launch Site', \n",
    "        title='Success Rate of All sites')\n",
    "    else:\n",
    "        # filtro per il sito selezionato\n",
    "        df_site = spacex_df[spacex_df['Launch Site'] == entered_site]\n",
    "        # conto quante volte compare 0 e quante volte 1\n",
    "        counts = df_site['class'].value_counts().reset_index()\n",
    "        counts.columns = ['class', 'count']\n",
    "        \n",
    "        # costruisco la torta su count vs class\n",
    "        fig = px.pie(\n",
    "            counts,\n",
    "            values='count',     # colonna con i numeri\n",
    "            names='class',      # colonna con le etichette 0 e 1\n",
    "            color='class',\n",
    "            color_discrete_map={0:'#CB3234', 1:'#618E3C'},\n",
    "            title=f\"Success Rate for {entered_site}\"\n",
    "        )\n",
    "    return fig\n",
    "\n",
    "        # return the outcomes piechart for a selected site\n",
    "# TASK 4:\n",
    "# Add a callback function for `site-dropdown` and `payload-slider` as inputs, `success-payload-scatter-chart` as output\n",
    "@app.callback(Output(component_id='success-payload-scatter-chart', component_property='figure'),\n",
    "              [Input(component_id='site-dropdown', component_property='value'), Input(component_id=\"payload-slider\", component_property=\"value\")]) #component id must be the same of the dropdown\n",
    "def get_scatter(entered_site, slider_range):\n",
    "    low, high = slider_range\n",
    "    filtered_df = spacex_df[\n",
    "        (spacex_df['Payload Mass (kg)'] >= low) &\n",
    "        (spacex_df['Payload Mass (kg)'] <= high)]\n",
    "    if entered_site == 'ALL':\n",
    "        fig = px.scatter(filtered_df,\n",
    "        x='Payload Mass (kg)', #Payload\n",
    "        y='class',\n",
    "        color= 'Booster Version Category',\n",
    "        title='Scatterplot of Payload vs Success')\n",
    "    else:\n",
    "        # filtro per il sito selezionato\n",
    "        filtered_df = filtered_df[filtered_df['Launch Site'] == entered_site]\n",
    "        \n",
    "        # costruisco la torta su count vs class\n",
    "        fig = px.scatter(filtered_df,\n",
    "        x='Payload Mass (kg)', #Payload\n",
    "        y='class',\n",
    "        color= 'Booster Version Category',\n",
    "        title=f'Scatterplot of Payload vs Success: {entered_site}')\n",
    "    return fig\n",
    "\n",
    "# Run the app\n",
    "if __name__ == '__main__':\n",
    "    app.run()"
   ]
  },
  {
   "cell_type": "markdown",
   "metadata": {},
   "source": [
    "# Questions\n",
    "\n",
    "Which site has the largest successful launches? KSC LC3-9A 10 lanches\n",
    "\n",
    "Which site has the highest launch success rate? KSC LC3-9A 76.9% lanches succeded\n",
    "\n",
    "Which payload range(s) has the highest launch success rate? 2000-6000\n",
    "\n",
    "Which payload range(s) has the lowest launch success rate? >6000 and below 1000\n",
    "\n",
    "Which F9 Booster version (v1.0, v1.1, FT, B4, B5, etc.) has the highest\n",
    "launch success rate? FT with 13 success overall\n",
    "\n",
    "\n",
    "Highest Success Rates\n",
    "\n",
    "B5 (purple) and FT (green) boosters dominate the successful‐mission cluster (class = 1) across a wide payload band (roughly 2.000–6.000 kg).\n",
    "The single heaviest payload (~10.000 kg) was also a B4 flight (light purple).\n",
    "\n",
    "Payload-Dependent Risk\n",
    "\n",
    "Under ~1.000 kg there are a handful of failures across v1.1 and FT, suggesting issues with smaller payloads.\n",
    "Above ~4.000 kg, nearly every mission succeeded, indicating handling medium-to-heavy lifts reliably.\n",
    "\n",
    "\n"
   ]
  },
  {
   "cell_type": "markdown",
   "id": "df69187e-f52d-4768-a3d0-3a7f1a99962c",
   "metadata": {},
   "source": [
    "Copyright © 2021 IBM Corporation. All rights reserved.\n"
   ]
  }
 ],
 "metadata": {
  "kernelspec": {
   "display_name": "scvi-env",
   "language": "python",
   "name": "python3"
  },
  "language_info": {
   "codemirror_mode": {
    "name": "ipython",
    "version": 3
   },
   "file_extension": ".py",
   "mimetype": "text/x-python",
   "name": "python",
   "nbconvert_exporter": "python",
   "pygments_lexer": "ipython3",
   "version": "3.12.7"
  },
  "prev_pub_hash": "55c216115ef3c9956bad93ab387b1d19bb068a77c9a7682441bce33021bf54e8"
 },
 "nbformat": 4,
 "nbformat_minor": 4
}
